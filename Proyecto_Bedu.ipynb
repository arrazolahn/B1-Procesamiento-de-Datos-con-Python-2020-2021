{
  "nbformat": 4,
  "nbformat_minor": 0,
  "metadata": {
    "colab": {
      "name": "Proyecto Bedu.ipynb",
      "provenance": [],
      "authorship_tag": "ABX9TyMOkbdTzro+TlC6HWec7dzm",
      "include_colab_link": true
    },
    "kernelspec": {
      "name": "python3",
      "display_name": "Python 3"
    },
    "language_info": {
      "name": "python"
    }
  },
  "cells": [
    {
      "cell_type": "markdown",
      "metadata": {
        "id": "view-in-github",
        "colab_type": "text"
      },
      "source": [
        "<a href=\"https://colab.research.google.com/github/arrazolahn/B1-Procesamiento-de-Datos-con-Python-2020-2021/blob/master/Proyecto_Bedu.ipynb\" target=\"_parent\"><img src=\"https://colab.research.google.com/assets/colab-badge.svg\" alt=\"Open In Colab\"/></a>"
      ]
    },
    {
      "cell_type": "markdown",
      "metadata": {
        "id": "ajUExQthFJQS"
      },
      "source": [
        "# Proyecto BEDU - Procesamiento de datos con Python\n",
        "Por Norma Arrazola Herrera\n",
        "##1. Problema Identificado e Investigación:\n",
        "Citando al sociologo Branko Milanovic 60 porciento del ingreso de una persona se determina por el país en que se nace, y luego 20 porciento adicional proviende de cuan ricos son los padres.\n",
        "La pobreza es uno de los mayores problemas que afecta a la humanidad. El impacto de en cifras se puede resumir:\n",
        "al entender que el 85% de la población mundial vive con $30 dolares al dia.\n",
        "\n",
        "1.   10% de la población mundial vive en pobreza extrema.\n",
        "2.   Aproximadamente la mitad de la humanidad vive con menos de $5.5 USD por dia\n",
        "\n",
        "Las preguntas a resolver son:\n",
        "\n",
        "\n",
        "1.   ¿Existe una relacion entre la geografia de un pais y su nivel de pobreza?\n",
        "2.   ¿Cuanto influencia los recursos naturales de un pais y la pobreza de sus habitantes?\n",
        "3. ¿Cuanto influencia el tamaño de un pais a su nievl de pobreza?\n",
        "4. ¿Hay alguna relacion entre el tipo de clima predominante y el nivel de pobreza de un pais?\n",
        "5. ¿Que tan importante es el terreno fertil para que sus pobladores no vivan en pobreza? \n",
        "\n",
        "\n",
        "##3. Soluciones hasta el momento\n",
        "La mayoría de las soluciones de organismos como la ONU no analizan el problema desde una perspectiva historica y geografica lo que podria a ayudar a entender mejor el problema y proveer soluciones mas efectivas.\n",
        "\n",
        "Fuentes\n",
        "\n",
        "* https://www.worldvision.org/sponsorship-news-stories/global-poverty-facts#facts\n",
        "* https://www.demos.org/blog/income-inequality-interview-branko-milanovic\n",
        "* https://www.oxfam.org/en/5-shocking-facts-about-extreme-global-inequality-and-how-even-it"
      ]
    },
    {
      "cell_type": "markdown",
      "metadata": {
        "id": "itcU_AVtG3N_"
      },
      "source": [
        "##4. Datasets a utilizar\n",
        "\n",
        "World Bank. 2006. World Development Indicators. Washington, DC: World Bank.\n",
        "https://diegopuga.org/data/rugged/#grid\n",
        "\n"
      ]
    },
    {
      "cell_type": "code",
      "metadata": {
        "id": "ocojnTIpo4Ax",
        "colab": {
          "base_uri": "https://localhost:8080/",
          "height": 674
        },
        "outputId": "8844a30a-5fec-42b4-8703-41b952337ed0"
      },
      "source": [
        "import pandas as pd\n",
        "\n",
        "url='https://raw.githubusercontent.com/arrazolahn/B1-Procesamiento-de-Datos-con-Python-2020-2021/master/Datasets/rugged_data.csv'\n",
        "df = pd.read_csv(url,sep=\",\",error_bad_lines=False,encoding='latin-1')\n",
        "print (df)\n",
        "df.head()\n",
        "\n",
        "\n",
        "dataset=df.loc[:, ['isocode','country', 'rgdppc_2000', 'land_area', 'lat','lon', 'soil', 'desert','tropical', 'dist_coast', 'near_coast', 'gemstones']]\n",
        "print (dataset)\n",
        "dataset.head()\n"
      ],
      "execution_count": 1,
      "outputs": [
        {
          "output_type": "stream",
          "text": [
            "    isocode  isonum  ...   pop_1400  european_descent\n",
            "0       ABW     533  ...      614.0               NaN\n",
            "1       AFG       4  ...  1870829.0               0.0\n",
            "2       AGO      24  ...  1223208.0               2.0\n",
            "3       AIA     660  ...        NaN               NaN\n",
            "4       ALB       8  ...   200000.0             100.0\n",
            "..      ...     ...  ...        ...               ...\n",
            "229     WSM     882  ...    33072.0               NaN\n",
            "230     YEM     887  ...  2250000.0               0.0\n",
            "231     ZAF     710  ...   486527.0              18.0\n",
            "232     ZMB     894  ...   348220.0               1.0\n",
            "233     ZWE     716  ...   174110.0               1.0\n",
            "\n",
            "[234 rows x 51 columns]\n",
            "    isocode       country  rgdppc_2000  ...  dist_coast  near_coast  gemstones\n",
            "0       ABW         Aruba          NaN  ...       0.001    100.0000          0\n",
            "1       AFG   Afghanistan          NaN  ...       0.922      0.0000          0\n",
            "2       AGO        Angola     1794.729  ...       0.428     13.1587      47756\n",
            "3       AIA      Anguilla          NaN  ...       0.000    100.0000          0\n",
            "4       ALB       Albania     3703.113  ...       0.048     94.6919          0\n",
            "..      ...           ...          ...  ...         ...         ...        ...\n",
            "229     WSM         Samoa     4860.269  ...       0.003    100.0000          0\n",
            "230     YEM         Yemen      787.749  ...       0.148     38.1163          0\n",
            "231     ZAF  South Africa     9419.122  ...       0.306     18.9404     144785\n",
            "232     ZMB        Zambia      774.010  ...       0.900      0.0000          0\n",
            "233     ZWE      Zimbabwe     2499.215  ...       0.499      0.0000        898\n",
            "\n",
            "[234 rows x 12 columns]\n"
          ],
          "name": "stdout"
        },
        {
          "output_type": "execute_result",
          "data": {
            "text/html": [
              "<div>\n",
              "<style scoped>\n",
              "    .dataframe tbody tr th:only-of-type {\n",
              "        vertical-align: middle;\n",
              "    }\n",
              "\n",
              "    .dataframe tbody tr th {\n",
              "        vertical-align: top;\n",
              "    }\n",
              "\n",
              "    .dataframe thead th {\n",
              "        text-align: right;\n",
              "    }\n",
              "</style>\n",
              "<table border=\"1\" class=\"dataframe\">\n",
              "  <thead>\n",
              "    <tr style=\"text-align: right;\">\n",
              "      <th></th>\n",
              "      <th>isocode</th>\n",
              "      <th>country</th>\n",
              "      <th>rgdppc_2000</th>\n",
              "      <th>land_area</th>\n",
              "      <th>lat</th>\n",
              "      <th>lon</th>\n",
              "      <th>soil</th>\n",
              "      <th>desert</th>\n",
              "      <th>tropical</th>\n",
              "      <th>dist_coast</th>\n",
              "      <th>near_coast</th>\n",
              "      <th>gemstones</th>\n",
              "    </tr>\n",
              "  </thead>\n",
              "  <tbody>\n",
              "    <tr>\n",
              "      <th>0</th>\n",
              "      <td>ABW</td>\n",
              "      <td>Aruba</td>\n",
              "      <td>NaN</td>\n",
              "      <td>18.0</td>\n",
              "      <td>12.508</td>\n",
              "      <td>-69.970</td>\n",
              "      <td>21.324</td>\n",
              "      <td>0.000</td>\n",
              "      <td>100.000</td>\n",
              "      <td>0.001</td>\n",
              "      <td>100.0000</td>\n",
              "      <td>0</td>\n",
              "    </tr>\n",
              "    <tr>\n",
              "      <th>1</th>\n",
              "      <td>AFG</td>\n",
              "      <td>Afghanistan</td>\n",
              "      <td>NaN</td>\n",
              "      <td>65209.0</td>\n",
              "      <td>33.833</td>\n",
              "      <td>66.026</td>\n",
              "      <td>27.849</td>\n",
              "      <td>4.356</td>\n",
              "      <td>0.000</td>\n",
              "      <td>0.922</td>\n",
              "      <td>0.0000</td>\n",
              "      <td>0</td>\n",
              "    </tr>\n",
              "    <tr>\n",
              "      <th>2</th>\n",
              "      <td>AGO</td>\n",
              "      <td>Angola</td>\n",
              "      <td>1794.729</td>\n",
              "      <td>124670.0</td>\n",
              "      <td>-12.299</td>\n",
              "      <td>17.551</td>\n",
              "      <td>26.676</td>\n",
              "      <td>0.425</td>\n",
              "      <td>44.346</td>\n",
              "      <td>0.428</td>\n",
              "      <td>13.1587</td>\n",
              "      <td>47756</td>\n",
              "    </tr>\n",
              "    <tr>\n",
              "      <th>3</th>\n",
              "      <td>AIA</td>\n",
              "      <td>Anguilla</td>\n",
              "      <td>NaN</td>\n",
              "      <td>9.0</td>\n",
              "      <td>18.231</td>\n",
              "      <td>-63.064</td>\n",
              "      <td>100.000</td>\n",
              "      <td>0.000</td>\n",
              "      <td>100.000</td>\n",
              "      <td>0.000</td>\n",
              "      <td>100.0000</td>\n",
              "      <td>0</td>\n",
              "    </tr>\n",
              "    <tr>\n",
              "      <th>4</th>\n",
              "      <td>ALB</td>\n",
              "      <td>Albania</td>\n",
              "      <td>3703.113</td>\n",
              "      <td>2740.0</td>\n",
              "      <td>41.143</td>\n",
              "      <td>20.070</td>\n",
              "      <td>68.088</td>\n",
              "      <td>0.000</td>\n",
              "      <td>0.000</td>\n",
              "      <td>0.048</td>\n",
              "      <td>94.6919</td>\n",
              "      <td>0</td>\n",
              "    </tr>\n",
              "  </tbody>\n",
              "</table>\n",
              "</div>"
            ],
            "text/plain": [
              "  isocode      country  rgdppc_2000  ...  dist_coast  near_coast  gemstones\n",
              "0     ABW        Aruba          NaN  ...       0.001    100.0000          0\n",
              "1     AFG  Afghanistan          NaN  ...       0.922      0.0000          0\n",
              "2     AGO       Angola     1794.729  ...       0.428     13.1587      47756\n",
              "3     AIA     Anguilla          NaN  ...       0.000    100.0000          0\n",
              "4     ALB      Albania     3703.113  ...       0.048     94.6919          0\n",
              "\n",
              "[5 rows x 12 columns]"
            ]
          },
          "metadata": {
            "tags": []
          },
          "execution_count": 1
        }
      ]
    },
    {
      "cell_type": "code",
      "metadata": {
        "id": "_I4UbJHFqSos",
        "colab": {
          "base_uri": "https://localhost:8080/",
          "height": 80
        },
        "outputId": "b7004ec8-1092-4586-914e-f318dd7525a8"
      },
      "source": [
        "dataset.describe()\n",
        "dataset.loc[df['isocode'] == 'MEX']"
      ],
      "execution_count": 2,
      "outputs": [
        {
          "output_type": "execute_result",
          "data": {
            "text/html": [
              "<div>\n",
              "<style scoped>\n",
              "    .dataframe tbody tr th:only-of-type {\n",
              "        vertical-align: middle;\n",
              "    }\n",
              "\n",
              "    .dataframe tbody tr th {\n",
              "        vertical-align: top;\n",
              "    }\n",
              "\n",
              "    .dataframe thead th {\n",
              "        text-align: right;\n",
              "    }\n",
              "</style>\n",
              "<table border=\"1\" class=\"dataframe\">\n",
              "  <thead>\n",
              "    <tr style=\"text-align: right;\">\n",
              "      <th></th>\n",
              "      <th>isocode</th>\n",
              "      <th>country</th>\n",
              "      <th>rgdppc_2000</th>\n",
              "      <th>land_area</th>\n",
              "      <th>lat</th>\n",
              "      <th>lon</th>\n",
              "      <th>soil</th>\n",
              "      <th>desert</th>\n",
              "      <th>tropical</th>\n",
              "      <th>dist_coast</th>\n",
              "      <th>near_coast</th>\n",
              "      <th>gemstones</th>\n",
              "    </tr>\n",
              "  </thead>\n",
              "  <tbody>\n",
              "    <tr>\n",
              "      <th>131</th>\n",
              "      <td>MEX</td>\n",
              "      <td>Mexico</td>\n",
              "      <td>9046.27</td>\n",
              "      <td>194395.0</td>\n",
              "      <td>23.941</td>\n",
              "      <td>-102.536</td>\n",
              "      <td>31.934</td>\n",
              "      <td>1.704</td>\n",
              "      <td>27.928</td>\n",
              "      <td>0.183</td>\n",
              "      <td>38.4165</td>\n",
              "      <td>0</td>\n",
              "    </tr>\n",
              "  </tbody>\n",
              "</table>\n",
              "</div>"
            ],
            "text/plain": [
              "    isocode country  rgdppc_2000  ...  dist_coast  near_coast  gemstones\n",
              "131     MEX  Mexico      9046.27  ...       0.183     38.4165          0\n",
              "\n",
              "[1 rows x 12 columns]"
            ]
          },
          "metadata": {
            "tags": []
          },
          "execution_count": 2
        }
      ]
    },
    {
      "cell_type": "markdown",
      "metadata": {
        "id": "56DpJHx8BcmH"
      },
      "source": [
        "\n",
        "##5. Revisión de Data Set\n",
        "1. ¿El conjunto de datos que tengo realmente me sirve para responder algunas de las preguntas que me planteé?\n",
        "2. ¿Qué tamaño tiene mi conjunto de datos? ¿Serán datos suficientes?\n",
        "3. ¿Qué columnas tengo y qué información tengo en cada una de esas columnas?\n",
        "4. Los nombres que tienen mis columnas, ¿son el nombre más apropiado?\n",
        "5. ¿Qué tipos de datos tengo en cada columna? ¿Parecen ser el tipo correcto de datos? ¿O es un tipo de datos \"incorrecto\"?\n",
        "6. Si selecciono algunas filas al azar y las observo, ¿estoy obteniendo los datos que debería? ¿o hay datos que parecen estar \"sucios\" o \"incorrectos\"?\n",
        "\n",
        "Tenemos 234 paises con 12 datos, de los cuales 2 son indicadores (isocde y country), 1 es la variable dependiente (GDP) y 9 otras variables descibiendo la geografia del lugar son variables independientes. "
      ]
    },
    {
      "cell_type": "markdown",
      "metadata": {
        "id": "-ilGG3gzBLyr"
      },
      "source": [
        "* country: Country name.\n",
        "* land_area: Land area (1000 Ha). The source is the Food and Agriculture Organization (2008), except for Macau and Hong Kong where it is the Encyclopædia Britannica. Units are thousands of hectares.\n",
        "* lat: Latitude. Expressed in decimal degress, for the geographical centroid of the country.\n",
        "*lon: Longitude. Expressed in decimal degress, for the geographical centroid of the country.\n",
        "* soil: % Fertile soil. On the basis of the FAO/UNESCO Digital Soil Map of the World and linked soil association composition table and climatic data compiled by the Climate Research Unit of the University of East Anglia, Fischer, van Velthuizen, Shah, and Nachtergaele (2002) identify whether each cell on a 5-minute grid covering almost the entire land area of the Earth is subject to various constraints for growing rainfed crops.\n",
        "* tropical: % Tropical climate. \n",
        "* dist_coast: Average distance to nearest ice-free coast (1000 km).\n",
        "* near_coast: % Within 100 km of ice-free coast. On the basis of the same data used to calculate the average distance to nearest ice-free coast, we calculate the percentage of the land surface area of each country that is within 100km of the nearest ice-free coast.\n",
        "* gemstones: Gem diamond extraction 1958-2000 (1000 carats).  Units are thousands of carats.\n",
        "* rgdppc_2000: Real GDP per person 2000 -- World Bank.  Units are 2006 international dollars, with purchasing power parity conversions performed using the Elteto-Koves-Szulc method.\n",
        "\n"
      ]
    },
    {
      "cell_type": "markdown",
      "metadata": {
        "id": "hUk8e8ksBhxB"
      },
      "source": [
        "\n",
        "##6. Limpieza de datos y preparación \n",
        "\n",
        "Explora tu dataset con el fin de encontrar los NaNs que contiene. Piensa en la distribución de NaNs por columna y por fila.\n",
        "Piensa cuáles son los procedimientos que puedes aplicar a tus NaNs. \n",
        "¿Tenemos que eliminar las filas/columnas que tienen esos NaNs? ¿O podríamos rellenar esos NaNs con algún valor de manera que podamos retener esas filas/columnas?\n",
        "Limpia tu dataset de manera que no quede ningún NaN.\n",
        "\n",
        "*   Reindexa tu dataset si lo consideras necesario.\n",
        "*   Renombra tus columnas si lo consideras necesario.\n",
        "*   Prueba aplicar agregaciones a tu DataFrame para ver si puedes empezar a responder algunas de las preguntas que te planteaste anteriormente.\n",
        "*   Elemento de la lista\n",
        "\n",
        "\n",
        "\n",
        "\n",
        "\n"
      ]
    },
    {
      "cell_type": "code",
      "metadata": {
        "colab": {
          "base_uri": "https://localhost:8080/"
        },
        "id": "up62O4h_uylZ",
        "outputId": "26e900b7-8f52-4166-937f-f48f1550775d"
      },
      "source": [
        "dataset.isnull().sum().sort_values(ascending = False).head(12)"
      ],
      "execution_count": 3,
      "outputs": [
        {
          "output_type": "execute_result",
          "data": {
            "text/plain": [
              "rgdppc_2000    64\n",
              "soil            9\n",
              "land_area       4\n",
              "gemstones       0\n",
              "near_coast      0\n",
              "dist_coast      0\n",
              "tropical        0\n",
              "desert          0\n",
              "lon             0\n",
              "lat             0\n",
              "country         0\n",
              "isocode         0\n",
              "dtype: int64"
            ]
          },
          "metadata": {
            "tags": []
          },
          "execution_count": 3
        }
      ]
    },
    {
      "cell_type": "code",
      "metadata": {
        "colab": {
          "base_uri": "https://localhost:8080/",
          "height": 326
        },
        "id": "rkzoL4ckwRMn",
        "outputId": "4a20a686-20b3-415b-bac6-e1238b611556"
      },
      "source": [
        "dataset[dataset['soil'].isnull()]"
      ],
      "execution_count": 4,
      "outputs": [
        {
          "output_type": "execute_result",
          "data": {
            "text/html": [
              "<div>\n",
              "<style scoped>\n",
              "    .dataframe tbody tr th:only-of-type {\n",
              "        vertical-align: middle;\n",
              "    }\n",
              "\n",
              "    .dataframe tbody tr th {\n",
              "        vertical-align: top;\n",
              "    }\n",
              "\n",
              "    .dataframe thead th {\n",
              "        text-align: right;\n",
              "    }\n",
              "</style>\n",
              "<table border=\"1\" class=\"dataframe\">\n",
              "  <thead>\n",
              "    <tr style=\"text-align: right;\">\n",
              "      <th></th>\n",
              "      <th>isocode</th>\n",
              "      <th>country</th>\n",
              "      <th>rgdppc_2000</th>\n",
              "      <th>land_area</th>\n",
              "      <th>lat</th>\n",
              "      <th>lon</th>\n",
              "      <th>soil</th>\n",
              "      <th>desert</th>\n",
              "      <th>tropical</th>\n",
              "      <th>dist_coast</th>\n",
              "      <th>near_coast</th>\n",
              "      <th>gemstones</th>\n",
              "    </tr>\n",
              "  </thead>\n",
              "  <tbody>\n",
              "    <tr>\n",
              "      <th>35</th>\n",
              "      <td>CCK</td>\n",
              "      <td>Cocos (Keeling) Islands</td>\n",
              "      <td>NaN</td>\n",
              "      <td>1.0</td>\n",
              "      <td>-12.122</td>\n",
              "      <td>96.867</td>\n",
              "      <td>NaN</td>\n",
              "      <td>0.0</td>\n",
              "      <td>100.0</td>\n",
              "      <td>0.000</td>\n",
              "      <td>100.0000</td>\n",
              "      <td>0</td>\n",
              "    </tr>\n",
              "    <tr>\n",
              "      <th>49</th>\n",
              "      <td>CXR</td>\n",
              "      <td>Christmas Island</td>\n",
              "      <td>NaN</td>\n",
              "      <td>13.5</td>\n",
              "      <td>-10.488</td>\n",
              "      <td>105.643</td>\n",
              "      <td>NaN</td>\n",
              "      <td>0.0</td>\n",
              "      <td>100.0</td>\n",
              "      <td>0.000</td>\n",
              "      <td>100.0000</td>\n",
              "      <td>0</td>\n",
              "    </tr>\n",
              "    <tr>\n",
              "      <th>96</th>\n",
              "      <td>IOT</td>\n",
              "      <td>British Indian Ocean Territory</td>\n",
              "      <td>NaN</td>\n",
              "      <td>8.0</td>\n",
              "      <td>-6.845</td>\n",
              "      <td>72.187</td>\n",
              "      <td>NaN</td>\n",
              "      <td>0.0</td>\n",
              "      <td>100.0</td>\n",
              "      <td>0.000</td>\n",
              "      <td>100.0000</td>\n",
              "      <td>0</td>\n",
              "    </tr>\n",
              "    <tr>\n",
              "      <th>150</th>\n",
              "      <td>NFK</td>\n",
              "      <td>Norfolk Island</td>\n",
              "      <td>NaN</td>\n",
              "      <td>4.0</td>\n",
              "      <td>-29.027</td>\n",
              "      <td>167.956</td>\n",
              "      <td>NaN</td>\n",
              "      <td>0.0</td>\n",
              "      <td>0.0</td>\n",
              "      <td>0.000</td>\n",
              "      <td>100.0000</td>\n",
              "      <td>0</td>\n",
              "    </tr>\n",
              "    <tr>\n",
              "      <th>157</th>\n",
              "      <td>NRU</td>\n",
              "      <td>Nauru</td>\n",
              "      <td>NaN</td>\n",
              "      <td>2.0</td>\n",
              "      <td>-0.641</td>\n",
              "      <td>167.801</td>\n",
              "      <td>NaN</td>\n",
              "      <td>0.0</td>\n",
              "      <td>100.0</td>\n",
              "      <td>0.000</td>\n",
              "      <td>100.0000</td>\n",
              "      <td>0</td>\n",
              "    </tr>\n",
              "    <tr>\n",
              "      <th>162</th>\n",
              "      <td>PCN</td>\n",
              "      <td>Pitcairn</td>\n",
              "      <td>NaN</td>\n",
              "      <td>4.7</td>\n",
              "      <td>-24.431</td>\n",
              "      <td>-128.445</td>\n",
              "      <td>NaN</td>\n",
              "      <td>0.0</td>\n",
              "      <td>100.0</td>\n",
              "      <td>0.000</td>\n",
              "      <td>100.0000</td>\n",
              "      <td>0</td>\n",
              "    </tr>\n",
              "    <tr>\n",
              "      <th>185</th>\n",
              "      <td>SJM</td>\n",
              "      <td>Svalbard and Jan Mayen Islands</td>\n",
              "      <td>NaN</td>\n",
              "      <td>NaN</td>\n",
              "      <td>78.845</td>\n",
              "      <td>18.310</td>\n",
              "      <td>NaN</td>\n",
              "      <td>0.0</td>\n",
              "      <td>0.0</td>\n",
              "      <td>0.276</td>\n",
              "      <td>13.7615</td>\n",
              "      <td>0</td>\n",
              "    </tr>\n",
              "    <tr>\n",
              "      <th>205</th>\n",
              "      <td>TKL</td>\n",
              "      <td>Tokelau</td>\n",
              "      <td>NaN</td>\n",
              "      <td>1.0</td>\n",
              "      <td>-9.088</td>\n",
              "      <td>-171.830</td>\n",
              "      <td>NaN</td>\n",
              "      <td>0.0</td>\n",
              "      <td>100.0</td>\n",
              "      <td>0.000</td>\n",
              "      <td>100.0000</td>\n",
              "      <td>0</td>\n",
              "    </tr>\n",
              "    <tr>\n",
              "      <th>217</th>\n",
              "      <td>UMI</td>\n",
              "      <td>United States Minor Outlying Islands</td>\n",
              "      <td>NaN</td>\n",
              "      <td>NaN</td>\n",
              "      <td>7.141</td>\n",
              "      <td>-153.655</td>\n",
              "      <td>NaN</td>\n",
              "      <td>0.0</td>\n",
              "      <td>100.0</td>\n",
              "      <td>0.000</td>\n",
              "      <td>100.0000</td>\n",
              "      <td>0</td>\n",
              "    </tr>\n",
              "  </tbody>\n",
              "</table>\n",
              "</div>"
            ],
            "text/plain": [
              "    isocode                               country  ...  near_coast  gemstones\n",
              "35      CCK               Cocos (Keeling) Islands  ...    100.0000          0\n",
              "49      CXR                      Christmas Island  ...    100.0000          0\n",
              "96      IOT        British Indian Ocean Territory  ...    100.0000          0\n",
              "150     NFK                        Norfolk Island  ...    100.0000          0\n",
              "157     NRU                                 Nauru  ...    100.0000          0\n",
              "162     PCN                              Pitcairn  ...    100.0000          0\n",
              "185     SJM        Svalbard and Jan Mayen Islands  ...     13.7615          0\n",
              "205     TKL                               Tokelau  ...    100.0000          0\n",
              "217     UMI  United States Minor Outlying Islands  ...    100.0000          0\n",
              "\n",
              "[9 rows x 12 columns]"
            ]
          },
          "metadata": {
            "tags": []
          },
          "execution_count": 4
        }
      ]
    },
    {
      "cell_type": "markdown",
      "metadata": {
        "id": "ZpsQ-yiVxeSk"
      },
      "source": [
        "Todos los paises sin valor en soil son las que no tienen tampoco GDP. Motivo de esto puede ser que son colonias pertenecientes a otros paises (e.g. Chistmas Island pertenece a Australia).\n",
        "Por ello eliminaremos estas columnas "
      ]
    },
    {
      "cell_type": "code",
      "metadata": {
        "colab": {
          "base_uri": "https://localhost:8080/",
          "height": 172
        },
        "id": "u_UVNMMXxq8P",
        "outputId": "a1625d3d-1103-431b-cbd3-ccf72cb9557a"
      },
      "source": [
        "dataset[dataset['land_area'].isnull()]"
      ],
      "execution_count": 5,
      "outputs": [
        {
          "output_type": "execute_result",
          "data": {
            "text/html": [
              "<div>\n",
              "<style scoped>\n",
              "    .dataframe tbody tr th:only-of-type {\n",
              "        vertical-align: middle;\n",
              "    }\n",
              "\n",
              "    .dataframe tbody tr th {\n",
              "        vertical-align: top;\n",
              "    }\n",
              "\n",
              "    .dataframe thead th {\n",
              "        text-align: right;\n",
              "    }\n",
              "</style>\n",
              "<table border=\"1\" class=\"dataframe\">\n",
              "  <thead>\n",
              "    <tr style=\"text-align: right;\">\n",
              "      <th></th>\n",
              "      <th>isocode</th>\n",
              "      <th>country</th>\n",
              "      <th>rgdppc_2000</th>\n",
              "      <th>land_area</th>\n",
              "      <th>lat</th>\n",
              "      <th>lon</th>\n",
              "      <th>soil</th>\n",
              "      <th>desert</th>\n",
              "      <th>tropical</th>\n",
              "      <th>dist_coast</th>\n",
              "      <th>near_coast</th>\n",
              "      <th>gemstones</th>\n",
              "    </tr>\n",
              "  </thead>\n",
              "  <tbody>\n",
              "    <tr>\n",
              "      <th>127</th>\n",
              "      <td>MCO</td>\n",
              "      <td>Monaco</td>\n",
              "      <td>NaN</td>\n",
              "      <td>NaN</td>\n",
              "      <td>43.753</td>\n",
              "      <td>7.422</td>\n",
              "      <td>0.0</td>\n",
              "      <td>0.0</td>\n",
              "      <td>0.0</td>\n",
              "      <td>0.000</td>\n",
              "      <td>100.0000</td>\n",
              "      <td>0</td>\n",
              "    </tr>\n",
              "    <tr>\n",
              "      <th>185</th>\n",
              "      <td>SJM</td>\n",
              "      <td>Svalbard and Jan Mayen Islands</td>\n",
              "      <td>NaN</td>\n",
              "      <td>NaN</td>\n",
              "      <td>78.845</td>\n",
              "      <td>18.310</td>\n",
              "      <td>NaN</td>\n",
              "      <td>0.0</td>\n",
              "      <td>0.0</td>\n",
              "      <td>0.276</td>\n",
              "      <td>13.7615</td>\n",
              "      <td>0</td>\n",
              "    </tr>\n",
              "    <tr>\n",
              "      <th>217</th>\n",
              "      <td>UMI</td>\n",
              "      <td>United States Minor Outlying Islands</td>\n",
              "      <td>NaN</td>\n",
              "      <td>NaN</td>\n",
              "      <td>7.141</td>\n",
              "      <td>-153.655</td>\n",
              "      <td>NaN</td>\n",
              "      <td>0.0</td>\n",
              "      <td>100.0</td>\n",
              "      <td>0.000</td>\n",
              "      <td>100.0000</td>\n",
              "      <td>0</td>\n",
              "    </tr>\n",
              "    <tr>\n",
              "      <th>221</th>\n",
              "      <td>VAT</td>\n",
              "      <td>Holy See</td>\n",
              "      <td>NaN</td>\n",
              "      <td>NaN</td>\n",
              "      <td>41.904</td>\n",
              "      <td>12.451</td>\n",
              "      <td>100.0</td>\n",
              "      <td>0.0</td>\n",
              "      <td>0.0</td>\n",
              "      <td>0.020</td>\n",
              "      <td>100.0000</td>\n",
              "      <td>0</td>\n",
              "    </tr>\n",
              "  </tbody>\n",
              "</table>\n",
              "</div>"
            ],
            "text/plain": [
              "    isocode                               country  ...  near_coast  gemstones\n",
              "127     MCO                                Monaco  ...    100.0000          0\n",
              "185     SJM        Svalbard and Jan Mayen Islands  ...     13.7615          0\n",
              "217     UMI  United States Minor Outlying Islands  ...    100.0000          0\n",
              "221     VAT                              Holy See  ...    100.0000          0\n",
              "\n",
              "[4 rows x 12 columns]"
            ]
          },
          "metadata": {
            "tags": []
          },
          "execution_count": 5
        }
      ]
    },
    {
      "cell_type": "markdown",
      "metadata": {
        "id": "PqzIbxVhx7Mb"
      },
      "source": [
        "Monaco es el unico pais reconocido de la lista, ademas de ser el segundo pais mas pequeño en el mundo con un area de  2.1 km2, lo cual tiende a cero usando nuestra metodología (unidad en miles de hectareas)"
      ]
    },
    {
      "cell_type": "code",
      "metadata": {
        "colab": {
          "base_uri": "https://localhost:8080/"
        },
        "id": "JgEzBtmgQRNh",
        "outputId": "40d86966-ecb8-48ff-d277-4be951ae3fbc"
      },
      "source": [
        "print(dataset[dataset['rgdppc_2000'].isnull()])"
      ],
      "execution_count": 8,
      "outputs": [
        {
          "output_type": "stream",
          "text": [
            "    isocode                               country  ...  near_coast  gemstones\n",
            "0       ABW                                 Aruba  ...       100.0          0\n",
            "1       AFG                           Afghanistan  ...         0.0          0\n",
            "3       AIA                              Anguilla  ...       100.0          0\n",
            "5       AND                               Andorra  ...         0.0          0\n",
            "6       ANT                  Netherlands Antilles  ...       100.0          0\n",
            "..      ...                                   ...  ...         ...        ...\n",
            "217     UMI  United States Minor Outlying Islands  ...       100.0          0\n",
            "221     VAT                              Holy See  ...       100.0          0\n",
            "224     VGB                British Virgin Islands  ...       100.0          0\n",
            "225     VIR          United States Virgin Islands  ...       100.0          0\n",
            "228     WLF             Wallis and Futuna Islands  ...       100.0          0\n",
            "\n",
            "[64 rows x 12 columns]\n"
          ],
          "name": "stdout"
        }
      ]
    },
    {
      "cell_type": "markdown",
      "metadata": {
        "id": "028anMb0Rgpu"
      },
      "source": [
        "De neuvo vemos que muchas islas y colonias (e.g. Aruba) son las que no cuentan con nuestra variable independiente por lo que procedemos a eliminar estas filas."
      ]
    },
    {
      "cell_type": "code",
      "metadata": {
        "colab": {
          "base_uri": "https://localhost:8080/"
        },
        "id": "JqZnvzZYR5R7",
        "outputId": "311312a4-6a19-40e8-9503-c52b0c6c093d"
      },
      "source": [
        "finaldataset = dataset.dropna(subset=[\"rgdppc_2000\"])\n",
        "print (finaldataset)\n",
        "finaldataset.isnull().sum().sort_values(ascending = False).head(12)"
      ],
      "execution_count": 11,
      "outputs": [
        {
          "output_type": "stream",
          "text": [
            "    isocode               country  ...  near_coast  gemstones\n",
            "2       AGO                Angola  ...     13.1587      47756\n",
            "4       ALB               Albania  ...     94.6919          0\n",
            "7       ARE  United Arab Emirates  ...     75.7464          0\n",
            "8       ARG             Argentina  ...     13.0167          0\n",
            "9       ARM               Armenia  ...      0.0000          0\n",
            "..      ...                   ...  ...         ...        ...\n",
            "229     WSM                 Samoa  ...    100.0000          0\n",
            "230     YEM                 Yemen  ...     38.1163          0\n",
            "231     ZAF          South Africa  ...     18.9404     144785\n",
            "232     ZMB                Zambia  ...      0.0000          0\n",
            "233     ZWE              Zimbabwe  ...      0.0000        898\n",
            "\n",
            "[170 rows x 12 columns]\n"
          ],
          "name": "stdout"
        },
        {
          "output_type": "execute_result",
          "data": {
            "text/plain": [
              "gemstones      0\n",
              "near_coast     0\n",
              "dist_coast     0\n",
              "tropical       0\n",
              "desert         0\n",
              "soil           0\n",
              "lon            0\n",
              "lat            0\n",
              "land_area      0\n",
              "rgdppc_2000    0\n",
              "country        0\n",
              "isocode        0\n",
              "dtype: int64"
            ]
          },
          "metadata": {
            "tags": []
          },
          "execution_count": 11
        }
      ]
    },
    {
      "cell_type": "markdown",
      "metadata": {
        "id": "hn5rmcNsSY7l"
      },
      "source": [
        "Terminamos con un dataset con todas las variables dependientes e independientes completas, habiendo identificado posibles razones de porque habia valores perdidos."
      ]
    },
    {
      "cell_type": "markdown",
      "metadata": {
        "id": "qh1t_dOGCUV6"
      },
      "source": [
        "##7. Uso de APIs\n",
        "En este Postwork vamos a dejar descansar un poquito nuestro dataset. La única manera de entender a la perfección cómo utilizar APIs es usándolas. Y eso es lo que vamos a hacer. Vamos a elegir un API y construir un nuevo dataset utilizando peticiones HTTP y concatenaciones. Puede que sea un API que complemente tu dataset original (eso sería lo mejor de lo mejor), o puede simplemente que sea un API que ofrezca información que te parezca interesante. Los pasos a seguir son estos:\n",
        "\n",
        "\n",
        "\n",
        "1. Encuentra un API que quieras explorar. Puedes encontrar una lista enorme de APIs gratuitas [aquí](https://github.com/public-apis/public-apis).\n",
        "2. Crea una cuenta si es necesario.\n",
        "3. Lee la documentación.\n",
        "4. Realiza algunas peticiones de prueba para entender la estructura de los datos (si quieres explorar un poco, puedes intentar haacer peticiones usando [este software](https://www.postman.com/)).\n",
        "5. Automatiza el proceso de realizar peticiones para obtener un dataset considerablemente grande.\n",
        "6. Explora y limpia tu dataset.\n",
        "7. Si has encontrado un dataset que complementa la información de tu dataset original (el que has estado trabajando durante todas las sesiones), ve si puedes unirlos en un solo `DataFrame` que incluya la información útil de ambos.\n",
        "\n",
        "> **Extra**: Puedes también explorar la posibilidad de automatizar algunos de los procesos de limpieza que has realizado con tu dataset. Si encuentras dónde podría ser útil y te animas a hacerlo, recuerda proteger tu código con estructuras `try except` para que la automatización no falle.\n",
        "\n",
        "\n",
        "https://datacatalog.worldbank.org/dataset/poverty-and-equity-database\n",
        "\n",
        "https://datahelpdesk.worldbank.org/knowledgebase/topics/125589\n",
        "\n",
        "https://datahelpdesk.worldbank.org/knowledgebase/articles/898581\n",
        "\n",
        "http://wdi.worldbank.org/table/3.14\n"
      ]
    },
    {
      "cell_type": "code",
      "metadata": {
        "colab": {
          "base_uri": "https://localhost:8080/"
        },
        "id": "xIY8wBj0g5ya",
        "outputId": "de37ad9e-b344-4664-d6ee-efc914f169ed"
      },
      "source": [
        "#!pip install requests\n",
        "import pandas as pd\n",
        "import requests\n",
        "import time\n",
        "\n",
        "\n",
        "endpoint = \"https://api.worldbank.org/v2/country/all/indicator/SI.POV.DDAY?format=json&date=2018\"\n",
        "r=requests.get(endpoint).json()\n",
        "print (r)\n",
        "type (r)\n",
        "\n",
        "#r.status_code #revision de la respuesta\n",
        "#r.json() #examinar el json obtenido\n",
        "#r.keys()"
      ],
      "execution_count": 12,
      "outputs": [
        {
          "output_type": "stream",
          "text": [
            "[{'page': 1, 'pages': 6, 'per_page': 50, 'total': 266, 'sourceid': '2', 'sourcename': 'World Development Indicators', 'lastupdated': '2021-07-30'}, [{'indicator': {'id': 'SI.POV.DDAY', 'value': 'Poverty headcount ratio at $1.90 a day (2011 PPP) (% of population)'}, 'country': {'id': 'ZH', 'value': 'Africa Eastern and Southern'}, 'countryiso3code': 'AFE', 'date': '2018', 'value': None, 'unit': '', 'obs_status': '', 'decimal': 1}, {'indicator': {'id': 'SI.POV.DDAY', 'value': 'Poverty headcount ratio at $1.90 a day (2011 PPP) (% of population)'}, 'country': {'id': 'ZI', 'value': 'Africa Western and Central'}, 'countryiso3code': 'AFW', 'date': '2018', 'value': None, 'unit': '', 'obs_status': '', 'decimal': 1}, {'indicator': {'id': 'SI.POV.DDAY', 'value': 'Poverty headcount ratio at $1.90 a day (2011 PPP) (% of population)'}, 'country': {'id': '1A', 'value': 'Arab World'}, 'countryiso3code': 'ARB', 'date': '2018', 'value': None, 'unit': '', 'obs_status': '', 'decimal': 1}, {'indicator': {'id': 'SI.POV.DDAY', 'value': 'Poverty headcount ratio at $1.90 a day (2011 PPP) (% of population)'}, 'country': {'id': 'S3', 'value': 'Caribbean small states'}, 'countryiso3code': 'CSS', 'date': '2018', 'value': None, 'unit': '', 'obs_status': '', 'decimal': 1}, {'indicator': {'id': 'SI.POV.DDAY', 'value': 'Poverty headcount ratio at $1.90 a day (2011 PPP) (% of population)'}, 'country': {'id': 'B8', 'value': 'Central Europe and the Baltics'}, 'countryiso3code': 'CEB', 'date': '2018', 'value': None, 'unit': '', 'obs_status': '', 'decimal': 1}, {'indicator': {'id': 'SI.POV.DDAY', 'value': 'Poverty headcount ratio at $1.90 a day (2011 PPP) (% of population)'}, 'country': {'id': 'V2', 'value': 'Early-demographic dividend'}, 'countryiso3code': 'EAR', 'date': '2018', 'value': None, 'unit': '', 'obs_status': '', 'decimal': 1}, {'indicator': {'id': 'SI.POV.DDAY', 'value': 'Poverty headcount ratio at $1.90 a day (2011 PPP) (% of population)'}, 'country': {'id': 'Z4', 'value': 'East Asia & Pacific'}, 'countryiso3code': 'EAS', 'date': '2018', 'value': 1.2, 'unit': '', 'obs_status': '', 'decimal': 1}, {'indicator': {'id': 'SI.POV.DDAY', 'value': 'Poverty headcount ratio at $1.90 a day (2011 PPP) (% of population)'}, 'country': {'id': '4E', 'value': 'East Asia & Pacific (excluding high income)'}, 'countryiso3code': 'EAP', 'date': '2018', 'value': None, 'unit': '', 'obs_status': '', 'decimal': 1}, {'indicator': {'id': 'SI.POV.DDAY', 'value': 'Poverty headcount ratio at $1.90 a day (2011 PPP) (% of population)'}, 'country': {'id': 'T4', 'value': 'East Asia & Pacific (IDA & IBRD countries)'}, 'countryiso3code': 'TEA', 'date': '2018', 'value': None, 'unit': '', 'obs_status': '', 'decimal': 1}, {'indicator': {'id': 'SI.POV.DDAY', 'value': 'Poverty headcount ratio at $1.90 a day (2011 PPP) (% of population)'}, 'country': {'id': 'XC', 'value': 'Euro area'}, 'countryiso3code': 'EMU', 'date': '2018', 'value': None, 'unit': '', 'obs_status': '', 'decimal': 1}, {'indicator': {'id': 'SI.POV.DDAY', 'value': 'Poverty headcount ratio at $1.90 a day (2011 PPP) (% of population)'}, 'country': {'id': 'Z7', 'value': 'Europe & Central Asia'}, 'countryiso3code': 'ECS', 'date': '2018', 'value': 1.1, 'unit': '', 'obs_status': '', 'decimal': 1}, {'indicator': {'id': 'SI.POV.DDAY', 'value': 'Poverty headcount ratio at $1.90 a day (2011 PPP) (% of population)'}, 'country': {'id': '7E', 'value': 'Europe & Central Asia (excluding high income)'}, 'countryiso3code': 'ECA', 'date': '2018', 'value': None, 'unit': '', 'obs_status': '', 'decimal': 1}, {'indicator': {'id': 'SI.POV.DDAY', 'value': 'Poverty headcount ratio at $1.90 a day (2011 PPP) (% of population)'}, 'country': {'id': 'T7', 'value': 'Europe & Central Asia (IDA & IBRD countries)'}, 'countryiso3code': 'TEC', 'date': '2018', 'value': None, 'unit': '', 'obs_status': '', 'decimal': 1}, {'indicator': {'id': 'SI.POV.DDAY', 'value': 'Poverty headcount ratio at $1.90 a day (2011 PPP) (% of population)'}, 'country': {'id': 'EU', 'value': 'European Union'}, 'countryiso3code': 'EUU', 'date': '2018', 'value': None, 'unit': '', 'obs_status': '', 'decimal': 1}, {'indicator': {'id': 'SI.POV.DDAY', 'value': 'Poverty headcount ratio at $1.90 a day (2011 PPP) (% of population)'}, 'country': {'id': 'F1', 'value': 'Fragile and conflict affected situations'}, 'countryiso3code': 'FCS', 'date': '2018', 'value': None, 'unit': '', 'obs_status': '', 'decimal': 1}, {'indicator': {'id': 'SI.POV.DDAY', 'value': 'Poverty headcount ratio at $1.90 a day (2011 PPP) (% of population)'}, 'country': {'id': 'XE', 'value': 'Heavily indebted poor countries (HIPC)'}, 'countryiso3code': 'HPC', 'date': '2018', 'value': None, 'unit': '', 'obs_status': '', 'decimal': 1}, {'indicator': {'id': 'SI.POV.DDAY', 'value': 'Poverty headcount ratio at $1.90 a day (2011 PPP) (% of population)'}, 'country': {'id': 'XD', 'value': 'High income'}, 'countryiso3code': '', 'date': '2018', 'value': 0.6, 'unit': '', 'obs_status': '', 'decimal': 1}, {'indicator': {'id': 'SI.POV.DDAY', 'value': 'Poverty headcount ratio at $1.90 a day (2011 PPP) (% of population)'}, 'country': {'id': 'XF', 'value': 'IBRD only'}, 'countryiso3code': 'IBD', 'date': '2018', 'value': None, 'unit': '', 'obs_status': '', 'decimal': 1}, {'indicator': {'id': 'SI.POV.DDAY', 'value': 'Poverty headcount ratio at $1.90 a day (2011 PPP) (% of population)'}, 'country': {'id': 'ZT', 'value': 'IDA & IBRD total'}, 'countryiso3code': 'IBT', 'date': '2018', 'value': None, 'unit': '', 'obs_status': '', 'decimal': 1}, {'indicator': {'id': 'SI.POV.DDAY', 'value': 'Poverty headcount ratio at $1.90 a day (2011 PPP) (% of population)'}, 'country': {'id': 'XH', 'value': 'IDA blend'}, 'countryiso3code': 'IDB', 'date': '2018', 'value': None, 'unit': '', 'obs_status': '', 'decimal': 1}, {'indicator': {'id': 'SI.POV.DDAY', 'value': 'Poverty headcount ratio at $1.90 a day (2011 PPP) (% of population)'}, 'country': {'id': 'XI', 'value': 'IDA only'}, 'countryiso3code': 'IDX', 'date': '2018', 'value': None, 'unit': '', 'obs_status': '', 'decimal': 1}, {'indicator': {'id': 'SI.POV.DDAY', 'value': 'Poverty headcount ratio at $1.90 a day (2011 PPP) (% of population)'}, 'country': {'id': 'XG', 'value': 'IDA total'}, 'countryiso3code': 'IDA', 'date': '2018', 'value': 29.3, 'unit': '', 'obs_status': '', 'decimal': 1}, {'indicator': {'id': 'SI.POV.DDAY', 'value': 'Poverty headcount ratio at $1.90 a day (2011 PPP) (% of population)'}, 'country': {'id': 'V3', 'value': 'Late-demographic dividend'}, 'countryiso3code': 'LTE', 'date': '2018', 'value': None, 'unit': '', 'obs_status': '', 'decimal': 1}, {'indicator': {'id': 'SI.POV.DDAY', 'value': 'Poverty headcount ratio at $1.90 a day (2011 PPP) (% of population)'}, 'country': {'id': 'ZJ', 'value': 'Latin America & Caribbean'}, 'countryiso3code': 'LCN', 'date': '2018', 'value': 3.7, 'unit': '', 'obs_status': '', 'decimal': 1}, {'indicator': {'id': 'SI.POV.DDAY', 'value': 'Poverty headcount ratio at $1.90 a day (2011 PPP) (% of population)'}, 'country': {'id': 'XJ', 'value': 'Latin America & Caribbean (excluding high income)'}, 'countryiso3code': 'LAC', 'date': '2018', 'value': None, 'unit': '', 'obs_status': '', 'decimal': 1}, {'indicator': {'id': 'SI.POV.DDAY', 'value': 'Poverty headcount ratio at $1.90 a day (2011 PPP) (% of population)'}, 'country': {'id': 'T2', 'value': 'Latin America & the Caribbean (IDA & IBRD countries)'}, 'countryiso3code': 'TLA', 'date': '2018', 'value': None, 'unit': '', 'obs_status': '', 'decimal': 1}, {'indicator': {'id': 'SI.POV.DDAY', 'value': 'Poverty headcount ratio at $1.90 a day (2011 PPP) (% of population)'}, 'country': {'id': 'XL', 'value': 'Least developed countries: UN classification'}, 'countryiso3code': 'LDC', 'date': '2018', 'value': None, 'unit': '', 'obs_status': '', 'decimal': 1}, {'indicator': {'id': 'SI.POV.DDAY', 'value': 'Poverty headcount ratio at $1.90 a day (2011 PPP) (% of population)'}, 'country': {'id': 'XO', 'value': 'Low & middle income'}, 'countryiso3code': 'LMY', 'date': '2018', 'value': None, 'unit': '', 'obs_status': '', 'decimal': 1}, {'indicator': {'id': 'SI.POV.DDAY', 'value': 'Poverty headcount ratio at $1.90 a day (2011 PPP) (% of population)'}, 'country': {'id': 'XM', 'value': 'Low income'}, 'countryiso3code': '', 'date': '2018', 'value': None, 'unit': '', 'obs_status': '', 'decimal': 1}, {'indicator': {'id': 'SI.POV.DDAY', 'value': 'Poverty headcount ratio at $1.90 a day (2011 PPP) (% of population)'}, 'country': {'id': 'XN', 'value': 'Lower middle income'}, 'countryiso3code': '', 'date': '2018', 'value': 12.8, 'unit': '', 'obs_status': '', 'decimal': 1}, {'indicator': {'id': 'SI.POV.DDAY', 'value': 'Poverty headcount ratio at $1.90 a day (2011 PPP) (% of population)'}, 'country': {'id': 'ZQ', 'value': 'Middle East & North Africa'}, 'countryiso3code': 'MEA', 'date': '2018', 'value': 7, 'unit': '', 'obs_status': '', 'decimal': 1}, {'indicator': {'id': 'SI.POV.DDAY', 'value': 'Poverty headcount ratio at $1.90 a day (2011 PPP) (% of population)'}, 'country': {'id': 'XQ', 'value': 'Middle East & North Africa (excluding high income)'}, 'countryiso3code': 'MNA', 'date': '2018', 'value': None, 'unit': '', 'obs_status': '', 'decimal': 1}, {'indicator': {'id': 'SI.POV.DDAY', 'value': 'Poverty headcount ratio at $1.90 a day (2011 PPP) (% of population)'}, 'country': {'id': 'T3', 'value': 'Middle East & North Africa (IDA & IBRD countries)'}, 'countryiso3code': 'TMN', 'date': '2018', 'value': None, 'unit': '', 'obs_status': '', 'decimal': 1}, {'indicator': {'id': 'SI.POV.DDAY', 'value': 'Poverty headcount ratio at $1.90 a day (2011 PPP) (% of population)'}, 'country': {'id': 'XP', 'value': 'Middle income'}, 'countryiso3code': 'MIC', 'date': '2018', 'value': None, 'unit': '', 'obs_status': '', 'decimal': 1}, {'indicator': {'id': 'SI.POV.DDAY', 'value': 'Poverty headcount ratio at $1.90 a day (2011 PPP) (% of population)'}, 'country': {'id': 'XU', 'value': 'North America'}, 'countryiso3code': 'NAC', 'date': '2018', 'value': None, 'unit': '', 'obs_status': '', 'decimal': 1}, {'indicator': {'id': 'SI.POV.DDAY', 'value': 'Poverty headcount ratio at $1.90 a day (2011 PPP) (% of population)'}, 'country': {'id': 'XY', 'value': 'Not classified'}, 'countryiso3code': '', 'date': '2018', 'value': None, 'unit': '', 'obs_status': '', 'decimal': 1}, {'indicator': {'id': 'SI.POV.DDAY', 'value': 'Poverty headcount ratio at $1.90 a day (2011 PPP) (% of population)'}, 'country': {'id': 'OE', 'value': 'OECD members'}, 'countryiso3code': 'OED', 'date': '2018', 'value': None, 'unit': '', 'obs_status': '', 'decimal': 1}, {'indicator': {'id': 'SI.POV.DDAY', 'value': 'Poverty headcount ratio at $1.90 a day (2011 PPP) (% of population)'}, 'country': {'id': 'S4', 'value': 'Other small states'}, 'countryiso3code': 'OSS', 'date': '2018', 'value': None, 'unit': '', 'obs_status': '', 'decimal': 1}, {'indicator': {'id': 'SI.POV.DDAY', 'value': 'Poverty headcount ratio at $1.90 a day (2011 PPP) (% of population)'}, 'country': {'id': 'S2', 'value': 'Pacific island small states'}, 'countryiso3code': 'PSS', 'date': '2018', 'value': None, 'unit': '', 'obs_status': '', 'decimal': 1}, {'indicator': {'id': 'SI.POV.DDAY', 'value': 'Poverty headcount ratio at $1.90 a day (2011 PPP) (% of population)'}, 'country': {'id': 'V4', 'value': 'Post-demographic dividend'}, 'countryiso3code': 'PST', 'date': '2018', 'value': None, 'unit': '', 'obs_status': '', 'decimal': 1}, {'indicator': {'id': 'SI.POV.DDAY', 'value': 'Poverty headcount ratio at $1.90 a day (2011 PPP) (% of population)'}, 'country': {'id': 'V1', 'value': 'Pre-demographic dividend'}, 'countryiso3code': 'PRE', 'date': '2018', 'value': None, 'unit': '', 'obs_status': '', 'decimal': 1}, {'indicator': {'id': 'SI.POV.DDAY', 'value': 'Poverty headcount ratio at $1.90 a day (2011 PPP) (% of population)'}, 'country': {'id': 'S1', 'value': 'Small states'}, 'countryiso3code': 'SST', 'date': '2018', 'value': None, 'unit': '', 'obs_status': '', 'decimal': 1}, {'indicator': {'id': 'SI.POV.DDAY', 'value': 'Poverty headcount ratio at $1.90 a day (2011 PPP) (% of population)'}, 'country': {'id': '8S', 'value': 'South Asia'}, 'countryiso3code': 'SAS', 'date': '2018', 'value': None, 'unit': '', 'obs_status': '', 'decimal': 1}, {'indicator': {'id': 'SI.POV.DDAY', 'value': 'Poverty headcount ratio at $1.90 a day (2011 PPP) (% of population)'}, 'country': {'id': 'T5', 'value': 'South Asia (IDA & IBRD)'}, 'countryiso3code': 'TSA', 'date': '2018', 'value': None, 'unit': '', 'obs_status': '', 'decimal': 1}, {'indicator': {'id': 'SI.POV.DDAY', 'value': 'Poverty headcount ratio at $1.90 a day (2011 PPP) (% of population)'}, 'country': {'id': 'ZG', 'value': 'Sub-Saharan Africa'}, 'countryiso3code': 'SSF', 'date': '2018', 'value': 40.4, 'unit': '', 'obs_status': '', 'decimal': 1}, {'indicator': {'id': 'SI.POV.DDAY', 'value': 'Poverty headcount ratio at $1.90 a day (2011 PPP) (% of population)'}, 'country': {'id': 'ZF', 'value': 'Sub-Saharan Africa (excluding high income)'}, 'countryiso3code': 'SSA', 'date': '2018', 'value': None, 'unit': '', 'obs_status': '', 'decimal': 1}, {'indicator': {'id': 'SI.POV.DDAY', 'value': 'Poverty headcount ratio at $1.90 a day (2011 PPP) (% of population)'}, 'country': {'id': 'T6', 'value': 'Sub-Saharan Africa (IDA & IBRD countries)'}, 'countryiso3code': 'TSS', 'date': '2018', 'value': None, 'unit': '', 'obs_status': '', 'decimal': 1}, {'indicator': {'id': 'SI.POV.DDAY', 'value': 'Poverty headcount ratio at $1.90 a day (2011 PPP) (% of population)'}, 'country': {'id': 'XT', 'value': 'Upper middle income'}, 'countryiso3code': '', 'date': '2018', 'value': 1.4, 'unit': '', 'obs_status': '', 'decimal': 1}, {'indicator': {'id': 'SI.POV.DDAY', 'value': 'Poverty headcount ratio at $1.90 a day (2011 PPP) (% of population)'}, 'country': {'id': '1W', 'value': 'World'}, 'countryiso3code': 'WLD', 'date': '2018', 'value': None, 'unit': '', 'obs_status': '', 'decimal': 1}, {'indicator': {'id': 'SI.POV.DDAY', 'value': 'Poverty headcount ratio at $1.90 a day (2011 PPP) (% of population)'}, 'country': {'id': 'AF', 'value': 'Afghanistan'}, 'countryiso3code': 'AFG', 'date': '2018', 'value': None, 'unit': '', 'obs_status': '', 'decimal': 1}]]\n"
          ],
          "name": "stdout"
        },
        {
          "output_type": "execute_result",
          "data": {
            "text/plain": [
              "list"
            ]
          },
          "metadata": {
            "tags": []
          },
          "execution_count": 12
        }
      ]
    },
    {
      "cell_type": "code",
      "metadata": {
        "id": "n-YnVd0EEUIr",
        "colab": {
          "base_uri": "https://localhost:8080/"
        },
        "outputId": "6ab519c9-0233-4e4b-ae0f-1ea6e9a625a7"
      },
      "source": [
        "type(r) #list\n",
        "response=r[1]\n",
        "#type(response) #list\n",
        "print(response)\n",
        "len(response) #50"
      ],
      "execution_count": 18,
      "outputs": [
        {
          "output_type": "stream",
          "text": [
            "[{'indicator': {'id': 'SI.POV.DDAY', 'value': 'Poverty headcount ratio at $1.90 a day (2011 PPP) (% of population)'}, 'country': {'id': 'ZH', 'value': 'Africa Eastern and Southern'}, 'countryiso3code': 'AFE', 'date': '2018', 'value': None, 'unit': '', 'obs_status': '', 'decimal': 1}, {'indicator': {'id': 'SI.POV.DDAY', 'value': 'Poverty headcount ratio at $1.90 a day (2011 PPP) (% of population)'}, 'country': {'id': 'ZI', 'value': 'Africa Western and Central'}, 'countryiso3code': 'AFW', 'date': '2018', 'value': None, 'unit': '', 'obs_status': '', 'decimal': 1}, {'indicator': {'id': 'SI.POV.DDAY', 'value': 'Poverty headcount ratio at $1.90 a day (2011 PPP) (% of population)'}, 'country': {'id': '1A', 'value': 'Arab World'}, 'countryiso3code': 'ARB', 'date': '2018', 'value': None, 'unit': '', 'obs_status': '', 'decimal': 1}, {'indicator': {'id': 'SI.POV.DDAY', 'value': 'Poverty headcount ratio at $1.90 a day (2011 PPP) (% of population)'}, 'country': {'id': 'S3', 'value': 'Caribbean small states'}, 'countryiso3code': 'CSS', 'date': '2018', 'value': None, 'unit': '', 'obs_status': '', 'decimal': 1}, {'indicator': {'id': 'SI.POV.DDAY', 'value': 'Poverty headcount ratio at $1.90 a day (2011 PPP) (% of population)'}, 'country': {'id': 'B8', 'value': 'Central Europe and the Baltics'}, 'countryiso3code': 'CEB', 'date': '2018', 'value': None, 'unit': '', 'obs_status': '', 'decimal': 1}, {'indicator': {'id': 'SI.POV.DDAY', 'value': 'Poverty headcount ratio at $1.90 a day (2011 PPP) (% of population)'}, 'country': {'id': 'V2', 'value': 'Early-demographic dividend'}, 'countryiso3code': 'EAR', 'date': '2018', 'value': None, 'unit': '', 'obs_status': '', 'decimal': 1}, {'indicator': {'id': 'SI.POV.DDAY', 'value': 'Poverty headcount ratio at $1.90 a day (2011 PPP) (% of population)'}, 'country': {'id': 'Z4', 'value': 'East Asia & Pacific'}, 'countryiso3code': 'EAS', 'date': '2018', 'value': 1.2, 'unit': '', 'obs_status': '', 'decimal': 1}, {'indicator': {'id': 'SI.POV.DDAY', 'value': 'Poverty headcount ratio at $1.90 a day (2011 PPP) (% of population)'}, 'country': {'id': '4E', 'value': 'East Asia & Pacific (excluding high income)'}, 'countryiso3code': 'EAP', 'date': '2018', 'value': None, 'unit': '', 'obs_status': '', 'decimal': 1}, {'indicator': {'id': 'SI.POV.DDAY', 'value': 'Poverty headcount ratio at $1.90 a day (2011 PPP) (% of population)'}, 'country': {'id': 'T4', 'value': 'East Asia & Pacific (IDA & IBRD countries)'}, 'countryiso3code': 'TEA', 'date': '2018', 'value': None, 'unit': '', 'obs_status': '', 'decimal': 1}, {'indicator': {'id': 'SI.POV.DDAY', 'value': 'Poverty headcount ratio at $1.90 a day (2011 PPP) (% of population)'}, 'country': {'id': 'XC', 'value': 'Euro area'}, 'countryiso3code': 'EMU', 'date': '2018', 'value': None, 'unit': '', 'obs_status': '', 'decimal': 1}, {'indicator': {'id': 'SI.POV.DDAY', 'value': 'Poverty headcount ratio at $1.90 a day (2011 PPP) (% of population)'}, 'country': {'id': 'Z7', 'value': 'Europe & Central Asia'}, 'countryiso3code': 'ECS', 'date': '2018', 'value': 1.1, 'unit': '', 'obs_status': '', 'decimal': 1}, {'indicator': {'id': 'SI.POV.DDAY', 'value': 'Poverty headcount ratio at $1.90 a day (2011 PPP) (% of population)'}, 'country': {'id': '7E', 'value': 'Europe & Central Asia (excluding high income)'}, 'countryiso3code': 'ECA', 'date': '2018', 'value': None, 'unit': '', 'obs_status': '', 'decimal': 1}, {'indicator': {'id': 'SI.POV.DDAY', 'value': 'Poverty headcount ratio at $1.90 a day (2011 PPP) (% of population)'}, 'country': {'id': 'T7', 'value': 'Europe & Central Asia (IDA & IBRD countries)'}, 'countryiso3code': 'TEC', 'date': '2018', 'value': None, 'unit': '', 'obs_status': '', 'decimal': 1}, {'indicator': {'id': 'SI.POV.DDAY', 'value': 'Poverty headcount ratio at $1.90 a day (2011 PPP) (% of population)'}, 'country': {'id': 'EU', 'value': 'European Union'}, 'countryiso3code': 'EUU', 'date': '2018', 'value': None, 'unit': '', 'obs_status': '', 'decimal': 1}, {'indicator': {'id': 'SI.POV.DDAY', 'value': 'Poverty headcount ratio at $1.90 a day (2011 PPP) (% of population)'}, 'country': {'id': 'F1', 'value': 'Fragile and conflict affected situations'}, 'countryiso3code': 'FCS', 'date': '2018', 'value': None, 'unit': '', 'obs_status': '', 'decimal': 1}, {'indicator': {'id': 'SI.POV.DDAY', 'value': 'Poverty headcount ratio at $1.90 a day (2011 PPP) (% of population)'}, 'country': {'id': 'XE', 'value': 'Heavily indebted poor countries (HIPC)'}, 'countryiso3code': 'HPC', 'date': '2018', 'value': None, 'unit': '', 'obs_status': '', 'decimal': 1}, {'indicator': {'id': 'SI.POV.DDAY', 'value': 'Poverty headcount ratio at $1.90 a day (2011 PPP) (% of population)'}, 'country': {'id': 'XD', 'value': 'High income'}, 'countryiso3code': '', 'date': '2018', 'value': 0.6, 'unit': '', 'obs_status': '', 'decimal': 1}, {'indicator': {'id': 'SI.POV.DDAY', 'value': 'Poverty headcount ratio at $1.90 a day (2011 PPP) (% of population)'}, 'country': {'id': 'XF', 'value': 'IBRD only'}, 'countryiso3code': 'IBD', 'date': '2018', 'value': None, 'unit': '', 'obs_status': '', 'decimal': 1}, {'indicator': {'id': 'SI.POV.DDAY', 'value': 'Poverty headcount ratio at $1.90 a day (2011 PPP) (% of population)'}, 'country': {'id': 'ZT', 'value': 'IDA & IBRD total'}, 'countryiso3code': 'IBT', 'date': '2018', 'value': None, 'unit': '', 'obs_status': '', 'decimal': 1}, {'indicator': {'id': 'SI.POV.DDAY', 'value': 'Poverty headcount ratio at $1.90 a day (2011 PPP) (% of population)'}, 'country': {'id': 'XH', 'value': 'IDA blend'}, 'countryiso3code': 'IDB', 'date': '2018', 'value': None, 'unit': '', 'obs_status': '', 'decimal': 1}, {'indicator': {'id': 'SI.POV.DDAY', 'value': 'Poverty headcount ratio at $1.90 a day (2011 PPP) (% of population)'}, 'country': {'id': 'XI', 'value': 'IDA only'}, 'countryiso3code': 'IDX', 'date': '2018', 'value': None, 'unit': '', 'obs_status': '', 'decimal': 1}, {'indicator': {'id': 'SI.POV.DDAY', 'value': 'Poverty headcount ratio at $1.90 a day (2011 PPP) (% of population)'}, 'country': {'id': 'XG', 'value': 'IDA total'}, 'countryiso3code': 'IDA', 'date': '2018', 'value': 29.3, 'unit': '', 'obs_status': '', 'decimal': 1}, {'indicator': {'id': 'SI.POV.DDAY', 'value': 'Poverty headcount ratio at $1.90 a day (2011 PPP) (% of population)'}, 'country': {'id': 'V3', 'value': 'Late-demographic dividend'}, 'countryiso3code': 'LTE', 'date': '2018', 'value': None, 'unit': '', 'obs_status': '', 'decimal': 1}, {'indicator': {'id': 'SI.POV.DDAY', 'value': 'Poverty headcount ratio at $1.90 a day (2011 PPP) (% of population)'}, 'country': {'id': 'ZJ', 'value': 'Latin America & Caribbean'}, 'countryiso3code': 'LCN', 'date': '2018', 'value': 3.7, 'unit': '', 'obs_status': '', 'decimal': 1}, {'indicator': {'id': 'SI.POV.DDAY', 'value': 'Poverty headcount ratio at $1.90 a day (2011 PPP) (% of population)'}, 'country': {'id': 'XJ', 'value': 'Latin America & Caribbean (excluding high income)'}, 'countryiso3code': 'LAC', 'date': '2018', 'value': None, 'unit': '', 'obs_status': '', 'decimal': 1}, {'indicator': {'id': 'SI.POV.DDAY', 'value': 'Poverty headcount ratio at $1.90 a day (2011 PPP) (% of population)'}, 'country': {'id': 'T2', 'value': 'Latin America & the Caribbean (IDA & IBRD countries)'}, 'countryiso3code': 'TLA', 'date': '2018', 'value': None, 'unit': '', 'obs_status': '', 'decimal': 1}, {'indicator': {'id': 'SI.POV.DDAY', 'value': 'Poverty headcount ratio at $1.90 a day (2011 PPP) (% of population)'}, 'country': {'id': 'XL', 'value': 'Least developed countries: UN classification'}, 'countryiso3code': 'LDC', 'date': '2018', 'value': None, 'unit': '', 'obs_status': '', 'decimal': 1}, {'indicator': {'id': 'SI.POV.DDAY', 'value': 'Poverty headcount ratio at $1.90 a day (2011 PPP) (% of population)'}, 'country': {'id': 'XO', 'value': 'Low & middle income'}, 'countryiso3code': 'LMY', 'date': '2018', 'value': None, 'unit': '', 'obs_status': '', 'decimal': 1}, {'indicator': {'id': 'SI.POV.DDAY', 'value': 'Poverty headcount ratio at $1.90 a day (2011 PPP) (% of population)'}, 'country': {'id': 'XM', 'value': 'Low income'}, 'countryiso3code': '', 'date': '2018', 'value': None, 'unit': '', 'obs_status': '', 'decimal': 1}, {'indicator': {'id': 'SI.POV.DDAY', 'value': 'Poverty headcount ratio at $1.90 a day (2011 PPP) (% of population)'}, 'country': {'id': 'XN', 'value': 'Lower middle income'}, 'countryiso3code': '', 'date': '2018', 'value': 12.8, 'unit': '', 'obs_status': '', 'decimal': 1}, {'indicator': {'id': 'SI.POV.DDAY', 'value': 'Poverty headcount ratio at $1.90 a day (2011 PPP) (% of population)'}, 'country': {'id': 'ZQ', 'value': 'Middle East & North Africa'}, 'countryiso3code': 'MEA', 'date': '2018', 'value': 7, 'unit': '', 'obs_status': '', 'decimal': 1}, {'indicator': {'id': 'SI.POV.DDAY', 'value': 'Poverty headcount ratio at $1.90 a day (2011 PPP) (% of population)'}, 'country': {'id': 'XQ', 'value': 'Middle East & North Africa (excluding high income)'}, 'countryiso3code': 'MNA', 'date': '2018', 'value': None, 'unit': '', 'obs_status': '', 'decimal': 1}, {'indicator': {'id': 'SI.POV.DDAY', 'value': 'Poverty headcount ratio at $1.90 a day (2011 PPP) (% of population)'}, 'country': {'id': 'T3', 'value': 'Middle East & North Africa (IDA & IBRD countries)'}, 'countryiso3code': 'TMN', 'date': '2018', 'value': None, 'unit': '', 'obs_status': '', 'decimal': 1}, {'indicator': {'id': 'SI.POV.DDAY', 'value': 'Poverty headcount ratio at $1.90 a day (2011 PPP) (% of population)'}, 'country': {'id': 'XP', 'value': 'Middle income'}, 'countryiso3code': 'MIC', 'date': '2018', 'value': None, 'unit': '', 'obs_status': '', 'decimal': 1}, {'indicator': {'id': 'SI.POV.DDAY', 'value': 'Poverty headcount ratio at $1.90 a day (2011 PPP) (% of population)'}, 'country': {'id': 'XU', 'value': 'North America'}, 'countryiso3code': 'NAC', 'date': '2018', 'value': None, 'unit': '', 'obs_status': '', 'decimal': 1}, {'indicator': {'id': 'SI.POV.DDAY', 'value': 'Poverty headcount ratio at $1.90 a day (2011 PPP) (% of population)'}, 'country': {'id': 'XY', 'value': 'Not classified'}, 'countryiso3code': '', 'date': '2018', 'value': None, 'unit': '', 'obs_status': '', 'decimal': 1}, {'indicator': {'id': 'SI.POV.DDAY', 'value': 'Poverty headcount ratio at $1.90 a day (2011 PPP) (% of population)'}, 'country': {'id': 'OE', 'value': 'OECD members'}, 'countryiso3code': 'OED', 'date': '2018', 'value': None, 'unit': '', 'obs_status': '', 'decimal': 1}, {'indicator': {'id': 'SI.POV.DDAY', 'value': 'Poverty headcount ratio at $1.90 a day (2011 PPP) (% of population)'}, 'country': {'id': 'S4', 'value': 'Other small states'}, 'countryiso3code': 'OSS', 'date': '2018', 'value': None, 'unit': '', 'obs_status': '', 'decimal': 1}, {'indicator': {'id': 'SI.POV.DDAY', 'value': 'Poverty headcount ratio at $1.90 a day (2011 PPP) (% of population)'}, 'country': {'id': 'S2', 'value': 'Pacific island small states'}, 'countryiso3code': 'PSS', 'date': '2018', 'value': None, 'unit': '', 'obs_status': '', 'decimal': 1}, {'indicator': {'id': 'SI.POV.DDAY', 'value': 'Poverty headcount ratio at $1.90 a day (2011 PPP) (% of population)'}, 'country': {'id': 'V4', 'value': 'Post-demographic dividend'}, 'countryiso3code': 'PST', 'date': '2018', 'value': None, 'unit': '', 'obs_status': '', 'decimal': 1}, {'indicator': {'id': 'SI.POV.DDAY', 'value': 'Poverty headcount ratio at $1.90 a day (2011 PPP) (% of population)'}, 'country': {'id': 'V1', 'value': 'Pre-demographic dividend'}, 'countryiso3code': 'PRE', 'date': '2018', 'value': None, 'unit': '', 'obs_status': '', 'decimal': 1}, {'indicator': {'id': 'SI.POV.DDAY', 'value': 'Poverty headcount ratio at $1.90 a day (2011 PPP) (% of population)'}, 'country': {'id': 'S1', 'value': 'Small states'}, 'countryiso3code': 'SST', 'date': '2018', 'value': None, 'unit': '', 'obs_status': '', 'decimal': 1}, {'indicator': {'id': 'SI.POV.DDAY', 'value': 'Poverty headcount ratio at $1.90 a day (2011 PPP) (% of population)'}, 'country': {'id': '8S', 'value': 'South Asia'}, 'countryiso3code': 'SAS', 'date': '2018', 'value': None, 'unit': '', 'obs_status': '', 'decimal': 1}, {'indicator': {'id': 'SI.POV.DDAY', 'value': 'Poverty headcount ratio at $1.90 a day (2011 PPP) (% of population)'}, 'country': {'id': 'T5', 'value': 'South Asia (IDA & IBRD)'}, 'countryiso3code': 'TSA', 'date': '2018', 'value': None, 'unit': '', 'obs_status': '', 'decimal': 1}, {'indicator': {'id': 'SI.POV.DDAY', 'value': 'Poverty headcount ratio at $1.90 a day (2011 PPP) (% of population)'}, 'country': {'id': 'ZG', 'value': 'Sub-Saharan Africa'}, 'countryiso3code': 'SSF', 'date': '2018', 'value': 40.4, 'unit': '', 'obs_status': '', 'decimal': 1}, {'indicator': {'id': 'SI.POV.DDAY', 'value': 'Poverty headcount ratio at $1.90 a day (2011 PPP) (% of population)'}, 'country': {'id': 'ZF', 'value': 'Sub-Saharan Africa (excluding high income)'}, 'countryiso3code': 'SSA', 'date': '2018', 'value': None, 'unit': '', 'obs_status': '', 'decimal': 1}, {'indicator': {'id': 'SI.POV.DDAY', 'value': 'Poverty headcount ratio at $1.90 a day (2011 PPP) (% of population)'}, 'country': {'id': 'T6', 'value': 'Sub-Saharan Africa (IDA & IBRD countries)'}, 'countryiso3code': 'TSS', 'date': '2018', 'value': None, 'unit': '', 'obs_status': '', 'decimal': 1}, {'indicator': {'id': 'SI.POV.DDAY', 'value': 'Poverty headcount ratio at $1.90 a day (2011 PPP) (% of population)'}, 'country': {'id': 'XT', 'value': 'Upper middle income'}, 'countryiso3code': '', 'date': '2018', 'value': 1.4, 'unit': '', 'obs_status': '', 'decimal': 1}, {'indicator': {'id': 'SI.POV.DDAY', 'value': 'Poverty headcount ratio at $1.90 a day (2011 PPP) (% of population)'}, 'country': {'id': '1W', 'value': 'World'}, 'countryiso3code': 'WLD', 'date': '2018', 'value': None, 'unit': '', 'obs_status': '', 'decimal': 1}, {'indicator': {'id': 'SI.POV.DDAY', 'value': 'Poverty headcount ratio at $1.90 a day (2011 PPP) (% of population)'}, 'country': {'id': 'AF', 'value': 'Afghanistan'}, 'countryiso3code': 'AFG', 'date': '2018', 'value': None, 'unit': '', 'obs_status': '', 'decimal': 1}]\n"
          ],
          "name": "stdout"
        },
        {
          "output_type": "execute_result",
          "data": {
            "text/plain": [
              "50"
            ]
          },
          "metadata": {
            "tags": []
          },
          "execution_count": 18
        }
      ]
    },
    {
      "cell_type": "code",
      "metadata": {
        "colab": {
          "base_uri": "https://localhost:8080/"
        },
        "id": "FGsv5ONlJS0U",
        "outputId": "2b2e4f7e-a2eb-43b3-cd53-5889022ecfe8"
      },
      "source": [
        "print(response[0])\n",
        "len(response[0]) #8"
      ],
      "execution_count": 16,
      "outputs": [
        {
          "output_type": "stream",
          "text": [
            "{'indicator': {'id': 'SI.POV.DDAY', 'value': 'Poverty headcount ratio at $1.90 a day (2011 PPP) (% of population)'}, 'country': {'id': 'ZH', 'value': 'Africa Eastern and Southern'}, 'countryiso3code': 'AFE', 'date': '2018', 'value': None, 'unit': '', 'obs_status': '', 'decimal': 1}\n"
          ],
          "name": "stdout"
        },
        {
          "output_type": "execute_result",
          "data": {
            "text/plain": [
              "8"
            ]
          },
          "metadata": {
            "tags": []
          },
          "execution_count": 16
        }
      ]
    },
    {
      "cell_type": "code",
      "metadata": {
        "id": "OvaMRux4Io2c",
        "colab": {
          "base_uri": "https://localhost:8080/",
          "height": 1000
        },
        "outputId": "e8dec019-2328-42c4-acea-5c870e695210"
      },
      "source": [
        "#obtener el pais\n",
        "type(response[0]) #dict\n",
        "#print(response[0][\"country\"][\"id\"])\n",
        "\n",
        "rows = []\n",
        "len(response[0])\n",
        "x = range(51)\n",
        "for i in x:\n",
        "  print(response[i][\"countryiso3code\"]) #obtener el codigo Iso del pais\n",
        "  print(response[i][\"value\"]) #obtener el valor de % de gente viviendo con 1.9 dls al dia\n",
        "  \n"
      ],
      "execution_count": 19,
      "outputs": [
        {
          "output_type": "stream",
          "text": [
            "AFE\n",
            "None\n",
            "AFW\n",
            "None\n",
            "ARB\n",
            "None\n",
            "CSS\n",
            "None\n",
            "CEB\n",
            "None\n",
            "EAR\n",
            "None\n",
            "EAS\n",
            "1.2\n",
            "EAP\n",
            "None\n",
            "TEA\n",
            "None\n",
            "EMU\n",
            "None\n",
            "ECS\n",
            "1.1\n",
            "ECA\n",
            "None\n",
            "TEC\n",
            "None\n",
            "EUU\n",
            "None\n",
            "FCS\n",
            "None\n",
            "HPC\n",
            "None\n",
            "\n",
            "0.6\n",
            "IBD\n",
            "None\n",
            "IBT\n",
            "None\n",
            "IDB\n",
            "None\n",
            "IDX\n",
            "None\n",
            "IDA\n",
            "29.3\n",
            "LTE\n",
            "None\n",
            "LCN\n",
            "3.7\n",
            "LAC\n",
            "None\n",
            "TLA\n",
            "None\n",
            "LDC\n",
            "None\n",
            "LMY\n",
            "None\n",
            "\n",
            "None\n",
            "\n",
            "12.8\n",
            "MEA\n",
            "7\n",
            "MNA\n",
            "None\n",
            "TMN\n",
            "None\n",
            "MIC\n",
            "None\n",
            "NAC\n",
            "None\n",
            "\n",
            "None\n",
            "OED\n",
            "None\n",
            "OSS\n",
            "None\n",
            "PSS\n",
            "None\n",
            "PST\n",
            "None\n",
            "PRE\n",
            "None\n",
            "SST\n",
            "None\n",
            "SAS\n",
            "None\n",
            "TSA\n",
            "None\n",
            "SSF\n",
            "40.4\n",
            "SSA\n",
            "None\n",
            "TSS\n",
            "None\n",
            "\n",
            "1.4\n",
            "WLD\n",
            "None\n",
            "AFG\n",
            "None\n"
          ],
          "name": "stdout"
        },
        {
          "output_type": "error",
          "ename": "IndexError",
          "evalue": "ignored",
          "traceback": [
            "\u001b[0;31m---------------------------------------------------------------------------\u001b[0m",
            "\u001b[0;31mIndexError\u001b[0m                                Traceback (most recent call last)",
            "\u001b[0;32m<ipython-input-19-2bb4b122add5>\u001b[0m in \u001b[0;36m<module>\u001b[0;34m()\u001b[0m\n\u001b[1;32m      7\u001b[0m \u001b[0mx\u001b[0m \u001b[0;34m=\u001b[0m \u001b[0mrange\u001b[0m\u001b[0;34m(\u001b[0m\u001b[0;36m51\u001b[0m\u001b[0;34m)\u001b[0m\u001b[0;34m\u001b[0m\u001b[0;34m\u001b[0m\u001b[0m\n\u001b[1;32m      8\u001b[0m \u001b[0;32mfor\u001b[0m \u001b[0mi\u001b[0m \u001b[0;32min\u001b[0m \u001b[0mx\u001b[0m\u001b[0;34m:\u001b[0m\u001b[0;34m\u001b[0m\u001b[0;34m\u001b[0m\u001b[0m\n\u001b[0;32m----> 9\u001b[0;31m   \u001b[0mprint\u001b[0m\u001b[0;34m(\u001b[0m\u001b[0mresponse\u001b[0m\u001b[0;34m[\u001b[0m\u001b[0mi\u001b[0m\u001b[0;34m]\u001b[0m\u001b[0;34m[\u001b[0m\u001b[0;34m\"countryiso3code\"\u001b[0m\u001b[0;34m]\u001b[0m\u001b[0;34m)\u001b[0m\u001b[0;34m\u001b[0m\u001b[0;34m\u001b[0m\u001b[0m\n\u001b[0m\u001b[1;32m     10\u001b[0m   \u001b[0mprint\u001b[0m\u001b[0;34m(\u001b[0m\u001b[0mresponse\u001b[0m\u001b[0;34m[\u001b[0m\u001b[0mi\u001b[0m\u001b[0;34m]\u001b[0m\u001b[0;34m[\u001b[0m\u001b[0;34m\"value\"\u001b[0m\u001b[0;34m]\u001b[0m\u001b[0;34m)\u001b[0m\u001b[0;34m\u001b[0m\u001b[0;34m\u001b[0m\u001b[0m\n\u001b[1;32m     11\u001b[0m \u001b[0;34m\u001b[0m\u001b[0m\n",
            "\u001b[0;31mIndexError\u001b[0m: list index out of range"
          ]
        }
      ]
    },
    {
      "cell_type": "markdown",
      "metadata": {
        "id": "suMTNzaxEThz"
      },
      "source": [
        "Devido al alto numero de datos vacios y la calidad de la información se decidió por no incluir esta variable en el analisis."
      ]
    },
    {
      "cell_type": "markdown",
      "metadata": {
        "id": "f3KaIj2vCWgP"
      },
      "source": [
        "##8. Procesamiento de Datos\n",
        "Ha llegado el momento de aplicar técnicas comunes de procesamiento de datos a nuestro conjunto de datos. Para este momento ya debes de tener un conjunto de datos que te sea interesante y que haya sido limpiado previamente de `NaNs`. También es importante que ya hayas explorado extensivamente tu dataset para que lo conozcas muy bien. De igual manera, es recomendable que tu dataset esté bien indexado y que tenga nombres coherentes y comprensibles para las columnas.\n",
        "\n",
        "Para aplicar en tu dataset lo que vimos en esta sesión, realiza las siguientes acciones:\n",
        "\n",
        "1. Checa que todos tus datos tengan el tipo de dato correcto. Si no es así, usa casting para convertir tus datos al tipo de dato correcto (recuerda que tipos de dato como `datetime64` se guardan como strings cuando están en archivos .csv, así que tendrás que convertirlos al tipo de dato apropiado cada vez que importes tu archivo.)\n",
        "2. Si tienes columnas de texto, asegúrate de que todas tengan el formato correcto. Si no es así, utiliza las técnicas de manipulación de `strings` para darles el formato que necesitas.\n",
        "3. Si consideras que alguna de tus columnas sería más clara si los datos tuvieran otro formato o representación usa `map` para transformar los datos de esa columna.\n",
        "4. Si crees que es posible generar nuevas columnas útiles a partir de las columnas que ya tienes, usa `apply` para generar nuevos datos a partir de los que tienes y añádelos a tu dataset.\n",
        "5. Con el fin de responder algunas de las preguntas que te planteaste acerca de tu dataset, usa filtros y sorting para crear nuevos subconjuntos y reordenamientos que sean más adecuados para responder tus preguntas. Primero comienza intentando responder las preguntas que te planteaste al principio, pero después puedes solamente explorar para ver si encuentras otras preguntas que no te habías planteado anteriormente."
      ]
    },
    {
      "cell_type": "markdown",
      "metadata": {
        "id": "5agtI1w4CmsL"
      },
      "source": [
        ""
      ]
    },
    {
      "cell_type": "markdown",
      "metadata": {
        "id": "d9AsgJQjDMiA"
      },
      "source": [
        "##9. Planeación estatistica.\n",
        "\n",
        "¿Qué te gustaría analizar? ¿Qué información está disponible en tus datos? ¿Cómo podrías ayudarte a entender mejor los datos usando gráficas y visualizaciones? Has una lista de tus planes a futuro. Seguramente esa lista irá cambiando conforme avances en el siguiente módulo, pero es un gran comienzo para tener una dirección clara.\n",
        "\n",
        "* Regresiones lineales\n",
        "* Correlaciones"
      ]
    }
  ]
}